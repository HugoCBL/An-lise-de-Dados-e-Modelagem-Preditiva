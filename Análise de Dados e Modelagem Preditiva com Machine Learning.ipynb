{
  "nbformat": 4,
  "nbformat_minor": 0,
  "metadata": {
    "colab": {
      "provenance": []
    },
    "kernelspec": {
      "name": "python3",
      "display_name": "Python 3"
    },
    "language_info": {
      "name": "python"
    }
  },
  "cells": [
    {
      "cell_type": "markdown",
      "source": [
        "#Questão 1: Classificador Bayesiano\n",
        "\n",
        "O naufrágio do Titanic em 1912 resultou em milhares de dados sobre os passageiros, que são frequentemente utilizados para problemas de classificação em machine learning. Você está desenvolvendo um modelo preditivo utilizando o classificador Naive Bayes para prever a sobrevivência de passageiros, usando o arquivo `titanic.csv` fornecido.\n",
        "\n",
        "Faça uma análise preditiva completa, conforme os itens abaixo:"
      ],
      "metadata": {
        "id": "bRV4_OpcxCQb"
      }
    },
    {
      "cell_type": "markdown",
      "source": [
        "##a) Análise Exploratória:\n",
        "\n",
        "Explore o conjunto de dados, identificando valores faltantes e apresentando um resumo estatístico das principais variáveis que você considera importantes para prever a sobrevivência (exemplo: idade, sexo, classe, número de familiares a bordo, tarifa paga, etc)."
      ],
      "metadata": {
        "id": "Yas3FRYZxSb4"
      }
    },
    {
      "cell_type": "code",
      "source": [
        "import pandas as pd\n",
        "df = pd.read_csv('titanic.csv')\n",
        "print(\"Primeiras 5 linhas do DataFrame:\")\n",
        "print(df.head())\n",
        "print(\"\\nInformações sobre as colunas e tipos de dados:\")\n",
        "print(df.info())"
      ],
      "metadata": {
        "colab": {
          "base_uri": "https://localhost:8080/"
        },
        "id": "odVO9QW2EzDE",
        "outputId": "157c47d9-4338-42d3-edac-3f2417b16889"
      },
      "execution_count": 11,
      "outputs": [
        {
          "output_type": "stream",
          "name": "stdout",
          "text": [
            "Primeiras 5 linhas do DataFrame:\n",
            "   PassengerId  Survived  Pclass  \\\n",
            "0            1         0       3   \n",
            "1            2         1       1   \n",
            "2            3         1       3   \n",
            "3            4         1       1   \n",
            "4            5         0       3   \n",
            "\n",
            "                                                Name     Sex   Age  SibSp  \\\n",
            "0                            Braund, Mr. Owen Harris    male  22.0      1   \n",
            "1  Cumings, Mrs. John Bradley (Florence Briggs Th...  female  38.0      1   \n",
            "2                             Heikkinen, Miss. Laina  female  26.0      0   \n",
            "3       Futrelle, Mrs. Jacques Heath (Lily May Peel)  female  35.0      1   \n",
            "4                           Allen, Mr. William Henry    male  35.0      0   \n",
            "\n",
            "   Parch            Ticket     Fare Cabin Embarked  \n",
            "0      0         A/5 21171     7.25   NaN        S  \n",
            "1      0          PC 17599  712.833   C85        C  \n",
            "2      0  STON/O2. 3101282    7.925   NaN        S  \n",
            "3      0            113803     53.1  C123        S  \n",
            "4      0            373450    08.05   NaN        S  \n",
            "\n",
            "Informações sobre as colunas e tipos de dados:\n",
            "<class 'pandas.core.frame.DataFrame'>\n",
            "RangeIndex: 891 entries, 0 to 890\n",
            "Data columns (total 12 columns):\n",
            " #   Column       Non-Null Count  Dtype  \n",
            "---  ------       --------------  -----  \n",
            " 0   PassengerId  891 non-null    int64  \n",
            " 1   Survived     891 non-null    int64  \n",
            " 2   Pclass       891 non-null    int64  \n",
            " 3   Name         891 non-null    object \n",
            " 4   Sex          891 non-null    object \n",
            " 5   Age          714 non-null    float64\n",
            " 6   SibSp        891 non-null    int64  \n",
            " 7   Parch        891 non-null    int64  \n",
            " 8   Ticket       891 non-null    object \n",
            " 9   Fare         891 non-null    object \n",
            " 10  Cabin        204 non-null    object \n",
            " 11  Embarked     889 non-null    object \n",
            "dtypes: float64(1), int64(5), object(6)\n",
            "memory usage: 83.7+ KB\n",
            "None\n"
          ]
        }
      ]
    },
    {
      "cell_type": "code",
      "source": [
        "print(\"\\nValores faltantes por coluna:\")\n",
        "print(df.isnull().sum())"
      ],
      "metadata": {
        "colab": {
          "base_uri": "https://localhost:8080/"
        },
        "id": "bpOnVV1sE-UZ",
        "outputId": "1f398992-7777-4e11-ba29-1c78701be246"
      },
      "execution_count": 12,
      "outputs": [
        {
          "output_type": "stream",
          "name": "stdout",
          "text": [
            "\n",
            "Valores faltantes por coluna:\n",
            "PassengerId      0\n",
            "Survived         0\n",
            "Pclass           0\n",
            "Name             0\n",
            "Sex              0\n",
            "Age            177\n",
            "SibSp            0\n",
            "Parch            0\n",
            "Ticket           0\n",
            "Fare             0\n",
            "Cabin          687\n",
            "Embarked         2\n",
            "dtype: int64\n"
          ]
        }
      ]
    },
    {
      "cell_type": "code",
      "source": [
        "print(\"\\nEstatísticas descritivas para variáveis numéricas (Idade, Tarifa, SibSp, Parch):\")\n",
        "print(df[['Age', 'Fare', 'SibSp', 'Parch']].describe())\n",
        "\n",
        "print(\"\\nDistribuição de Sexo:\")\n",
        "print(df['Sex'].value_counts())\n",
        "\n",
        "print(\"\\nDistribuição de Classe (Pclass):\")\n",
        "print(df['Pclass'].value_counts())\n",
        "\n",
        "print(\"\\nDistribuição de Porto de Embarque (Embarked):\")\n",
        "print(df['Embarked'].value_counts())"
      ],
      "metadata": {
        "colab": {
          "base_uri": "https://localhost:8080/"
        },
        "id": "FRRfQC3iFEMj",
        "outputId": "13c7e55e-6920-45b8-e2f5-96000cc451f4"
      },
      "execution_count": 13,
      "outputs": [
        {
          "output_type": "stream",
          "name": "stdout",
          "text": [
            "\n",
            "Estatísticas descritivas para variáveis numéricas (Idade, Tarifa, SibSp, Parch):\n",
            "              Age       SibSp       Parch\n",
            "count  714.000000  891.000000  891.000000\n",
            "mean    29.699118    0.523008    0.381594\n",
            "std     14.526497    1.102743    0.806057\n",
            "min      0.420000    0.000000    0.000000\n",
            "25%     20.125000    0.000000    0.000000\n",
            "50%     28.000000    0.000000    0.000000\n",
            "75%     38.000000    1.000000    0.000000\n",
            "max     80.000000    8.000000    6.000000\n",
            "\n",
            "Distribuição de Sexo:\n",
            "Sex\n",
            "male      577\n",
            "female    314\n",
            "Name: count, dtype: int64\n",
            "\n",
            "Distribuição de Classe (Pclass):\n",
            "Pclass\n",
            "3    491\n",
            "1    216\n",
            "2    184\n",
            "Name: count, dtype: int64\n",
            "\n",
            "Distribuição de Porto de Embarque (Embarked):\n",
            "Embarked\n",
            "S    644\n",
            "C    168\n",
            "Q     77\n",
            "Name: count, dtype: int64\n"
          ]
        }
      ]
    },
    {
      "cell_type": "markdown",
      "source": [
        "##b) Pré-processamento:\n",
        "\n",
        "- Mostre como você trata valores faltantes.\n",
        "\n",
        "- Transforme variáveis categóricas em variáveis numéricas (dummificação ou codificação adequada).\n",
        "\n",
        "- Explique sua escolha de variáveis para o modelo (quais você usou e por quê)."
      ],
      "metadata": {
        "id": "iG2l1zgJxaDb"
      }
    },
    {
      "cell_type": "code",
      "source": [
        "#tratar valores faltantes\n",
        "df['Age'].fillna(df['Age'].median(), inplace=True)#preencher age com a mediana\n",
        "df['Embarked'].fillna(df['Embarked'].mode()[0], inplace=True) #preencher embarked com o modo\n",
        "df.drop('Cabin', axis=1, inplace=True)#descartar a coluna cabin\n",
        "\n",
        "print(\"\\nValores faltantes após o tratamento:\")\n",
        "print(df.isnull().sum()) # Verifique se não há mais nulos nas colunas tratadas"
      ],
      "metadata": {
        "colab": {
          "base_uri": "https://localhost:8080/"
        },
        "id": "YFxkL1U-E7rw",
        "outputId": "79bba244-bfa8-4095-97d9-d45a4bbf00bf"
      },
      "execution_count": 14,
      "outputs": [
        {
          "output_type": "stream",
          "name": "stdout",
          "text": [
            "\n",
            "Valores faltantes após o tratamento:\n",
            "PassengerId    0\n",
            "Survived       0\n",
            "Pclass         0\n",
            "Name           0\n",
            "Sex            0\n",
            "Age            0\n",
            "SibSp          0\n",
            "Parch          0\n",
            "Ticket         0\n",
            "Fare           0\n",
            "Embarked       0\n",
            "dtype: int64\n"
          ]
        },
        {
          "output_type": "stream",
          "name": "stderr",
          "text": [
            "/tmp/ipython-input-14-509068760.py:2: FutureWarning: A value is trying to be set on a copy of a DataFrame or Series through chained assignment using an inplace method.\n",
            "The behavior will change in pandas 3.0. This inplace method will never work because the intermediate object on which we are setting values always behaves as a copy.\n",
            "\n",
            "For example, when doing 'df[col].method(value, inplace=True)', try using 'df.method({col: value}, inplace=True)' or df[col] = df[col].method(value) instead, to perform the operation inplace on the original object.\n",
            "\n",
            "\n",
            "  df['Age'].fillna(df['Age'].median(), inplace=True)#preencher age com a mediana\n",
            "/tmp/ipython-input-14-509068760.py:3: FutureWarning: A value is trying to be set on a copy of a DataFrame or Series through chained assignment using an inplace method.\n",
            "The behavior will change in pandas 3.0. This inplace method will never work because the intermediate object on which we are setting values always behaves as a copy.\n",
            "\n",
            "For example, when doing 'df[col].method(value, inplace=True)', try using 'df.method({col: value}, inplace=True)' or df[col] = df[col].method(value) instead, to perform the operation inplace on the original object.\n",
            "\n",
            "\n",
            "  df['Embarked'].fillna(df['Embarked'].mode()[0], inplace=True) #preencher embarked com o modo\n"
          ]
        }
      ]
    },
    {
      "cell_type": "code",
      "source": [
        "if df['Fare'].dtype == 'object':\n",
        "    print(\"Coluna 'Fare' detectada como tipo 'object'. Tentando conversão...\")\n",
        "    df['Fare'] = df['Fare'].astype(str).str.replace('.', '', regex=False).str.replace(',', '.', regex=False)\n",
        "    df['Fare'] = pd.to_numeric(df['Fare'])\n",
        "    print(\"Coluna 'Fare' convertida para numérica.\")"
      ],
      "metadata": {
        "colab": {
          "base_uri": "https://localhost:8080/"
        },
        "id": "KQQwkgEuZPOk",
        "outputId": "4aaa032d-931a-41fc-c01d-9a56c6a3daa2"
      },
      "execution_count": 15,
      "outputs": [
        {
          "output_type": "stream",
          "name": "stdout",
          "text": [
            "Coluna 'Fare' detectada como tipo 'object'. Tentando conversão...\n",
            "Coluna 'Fare' convertida para numérica.\n"
          ]
        }
      ]
    },
    {
      "cell_type": "code",
      "source": [
        "#transformar variaveis categoricas em numericas\n",
        "df = pd.get_dummies(df, columns=['Sex', 'Embarked'], drop_first=True)\n",
        "print(\"\\nDataFrame após dummificação:\")\n",
        "print(df.head())"
      ],
      "metadata": {
        "colab": {
          "base_uri": "https://localhost:8080/"
        },
        "id": "RWglmEttFtxb",
        "outputId": "90efda94-98bc-4100-d9f7-1b37d2f41c21"
      },
      "execution_count": 16,
      "outputs": [
        {
          "output_type": "stream",
          "name": "stdout",
          "text": [
            "\n",
            "DataFrame após dummificação:\n",
            "   PassengerId  Survived  Pclass  \\\n",
            "0            1         0       3   \n",
            "1            2         1       1   \n",
            "2            3         1       3   \n",
            "3            4         1       1   \n",
            "4            5         0       3   \n",
            "\n",
            "                                                Name   Age  SibSp  Parch  \\\n",
            "0                            Braund, Mr. Owen Harris  22.0      1      0   \n",
            "1  Cumings, Mrs. John Bradley (Florence Briggs Th...  38.0      1      0   \n",
            "2                             Heikkinen, Miss. Laina  26.0      0      0   \n",
            "3       Futrelle, Mrs. Jacques Heath (Lily May Peel)  35.0      1      0   \n",
            "4                           Allen, Mr. William Henry  35.0      0      0   \n",
            "\n",
            "             Ticket    Fare  Sex_male  Embarked_Q  Embarked_S  \n",
            "0         A/5 21171     725      True       False        True  \n",
            "1          PC 17599  712833     False       False       False  \n",
            "2  STON/O2. 3101282    7925     False       False        True  \n",
            "3            113803     531     False       False        True  \n",
            "4            373450     805      True       False        True  \n"
          ]
        }
      ]
    },
    {
      "cell_type": "markdown",
      "source": [
        "##c) Treinamento do Modelo:\n",
        "\n",
        "- Divida os dados em treino (70%) e teste (30%) de forma estratificada.\n",
        "\n",
        "- Treine um classificador Naive Bayes.\n",
        "\n",
        "- Mostre o código utilizado."
      ],
      "metadata": {
        "id": "oNdSrwM_xdPA"
      }
    },
    {
      "cell_type": "code",
      "source": [
        "#definir features e target\n",
        "X = df[['Pclass', 'Age', 'SibSp', 'Parch', 'Fare', 'Sex_male', 'Embarked_Q', 'Embarked_S']]\n",
        "y = df['Survived']"
      ],
      "metadata": {
        "id": "zRTuludcHFTV"
      },
      "execution_count": 17,
      "outputs": []
    },
    {
      "cell_type": "code",
      "source": [
        "from sklearn.model_selection import train_test_split\n",
        "\n",
        "X_train, X_test, y_train, y_test = train_test_split(X, y, test_size=0.3, random_state=42, stratify=y)\n",
        "\n",
        "print(f\"\\nTamanho do conjunto de treino: {X_train.shape}\")\n",
        "print(f\"Tamanho do conjunto de teste: {X_test.shape}\")\n",
        "print(f\"Proporção de sobreviventes no treino: {y_train.sum() / len(y_train):.2f}\")\n",
        "print(f\"Proporção de sobreviventes no teste: {y_test.sum() / len(y_test):.2f}\")"
      ],
      "metadata": {
        "colab": {
          "base_uri": "https://localhost:8080/"
        },
        "id": "FuKobLbbHLeX",
        "outputId": "4c03850f-2e1a-4225-88ea-ca0fd2eb56fe"
      },
      "execution_count": 18,
      "outputs": [
        {
          "output_type": "stream",
          "name": "stdout",
          "text": [
            "\n",
            "Tamanho do conjunto de treino: (623, 8)\n",
            "Tamanho do conjunto de teste: (268, 8)\n",
            "Proporção de sobreviventes no treino: 0.38\n",
            "Proporção de sobreviventes no teste: 0.38\n"
          ]
        }
      ]
    },
    {
      "cell_type": "code",
      "source": [
        "from sklearn.naive_bayes import GaussianNB\n",
        "\n",
        "model_nb = GaussianNB()#instanciar o modelo\n",
        "\n",
        "model_nb.fit(X_train, y_train)#treinar o modelo\n",
        "\n",
        "print(\"\\nModelo Naive Bayes treinado com sucesso!\")"
      ],
      "metadata": {
        "colab": {
          "base_uri": "https://localhost:8080/"
        },
        "id": "iqYcHMT8HRtC",
        "outputId": "0159ee4c-22ea-4402-e6d8-79d66fa26823"
      },
      "execution_count": 19,
      "outputs": [
        {
          "output_type": "stream",
          "name": "stdout",
          "text": [
            "\n",
            "Modelo Naive Bayes treinado com sucesso!\n"
          ]
        }
      ]
    },
    {
      "cell_type": "markdown",
      "source": [
        "##d) Avaliação:\n",
        "\n",
        "- Calcule a `acurácia`, `precisão`, `recall` e `F1-score` do modelo.\n",
        "\n",
        "- Apresente e interprete a matriz de confusão."
      ],
      "metadata": {
        "id": "EyT0qD-_xg8M"
      }
    },
    {
      "cell_type": "code",
      "source": [
        "from sklearn.metrics import accuracy_score, precision_score, recall_score, f1_score, confusion_matrix\n",
        "\n",
        "y_pred_nb = model_nb.predict(X_test)#fazer predições\n",
        "\n",
        "#calcular métricas\n",
        "accuracy = accuracy_score(y_test, y_pred_nb)\n",
        "precision = precision_score(y_test, y_pred_nb)\n",
        "recall = recall_score(y_test, y_pred_nb)\n",
        "f1 = f1_score(y_test, y_pred_nb)\n",
        "\n",
        "print(f\"\\n--- Métricas de Avaliação do Classificador Naive Bayes ---\")\n",
        "print(f\"Acurácia: {accuracy:.4f}\")\n",
        "print(f\"Precisão: {precision:.4f}\")\n",
        "print(f\"Recall: {recall:.4f}\")\n",
        "print(f\"F1-score: {f1:.4f}\")"
      ],
      "metadata": {
        "colab": {
          "base_uri": "https://localhost:8080/"
        },
        "id": "1QWx2qDzHdtW",
        "outputId": "4a2fb75c-13e9-4707-9c30-4714a41f36ba"
      },
      "execution_count": 20,
      "outputs": [
        {
          "output_type": "stream",
          "name": "stdout",
          "text": [
            "\n",
            "--- Métricas de Avaliação do Classificador Naive Bayes ---\n",
            "Acurácia: 0.6642\n",
            "Precisão: 0.8421\n",
            "Recall: 0.1553\n",
            "F1-score: 0.2623\n"
          ]
        }
      ]
    },
    {
      "cell_type": "code",
      "source": [
        "conf_matrix_nb = confusion_matrix(y_test, y_pred_nb)\n",
        "print(\"\\nMatriz de Confusão:\")\n",
        "print(conf_matrix_nb)"
      ],
      "metadata": {
        "colab": {
          "base_uri": "https://localhost:8080/"
        },
        "id": "avZUkFUuHmsK",
        "outputId": "ec408091-8c32-4b4c-c518-5d16eb9d407b"
      },
      "execution_count": 21,
      "outputs": [
        {
          "output_type": "stream",
          "name": "stdout",
          "text": [
            "\n",
            "Matriz de Confusão:\n",
            "[[162   3]\n",
            " [ 87  16]]\n"
          ]
        }
      ]
    },
    {
      "cell_type": "markdown",
      "source": [
        "##e) Discussão Crítica:\n",
        "\n",
        "  Identifique possíveis limitações do classificador Naive Bayes para este problema."
      ],
      "metadata": {
        "id": "3p1c45YauQzC"
      }
    },
    {
      "cell_type": "markdown",
      "source": [
        "Assunção de Independência das Características: O algoritmo assume que as características são independentes, uma premissa que é frequentemente violada em dados reais (ex: correlação entre Pclass e Fare, ou SibSp e Parch).\n",
        "\n",
        "Assunção de Distribuição Gaussiana: O GaussianNB parte do princípio de que as variáveis contínuas seguem uma distribuição normal. Discrepâncias significativas em relação a essa distribuição podem afetar a precisão das probabilidades estimadas.\n",
        "\n",
        "Incapacidade de Capturar Interações Complexas: Sendo um modelo linear simples, o Naive Bayes não é apto a identificar e modelar relações não lineares ou interações complexas entre as variáveis, que poderiam ser determinantes para a sobrevivência em cenários específicos."
      ],
      "metadata": {
        "id": "bYLB9zrcT3xI"
      }
    },
    {
      "cell_type": "markdown",
      "source": [
        "#Questão 2: Regressão Linear\n",
        "\n",
        "Você foi contratado como cientista de dados para ajudar uma imobiliária a prever preços de casas na Califórnia. Use regressão linear para criar um modelo que prediga o valor mediano das casas com base em características como localização, idade, número de quartos, etc."
      ],
      "metadata": {
        "id": "SOFMgjiBxAR0"
      }
    },
    {
      "cell_type": "code",
      "source": [
        "from sklearn.datasets import fetch_california_housing\n",
        "from sklearn.linear_model import LinearRegression\n",
        "from sklearn.model_selection import train_test_split\n",
        "from sklearn.metrics import mean_absolute_error, r2_score\n",
        "import matplotlib.pyplot as plt\n",
        "import numpy as np\n",
        "\n",
        "# 1. Carregar e explorar os dados\n",
        "print(\"=== EXPLORANDO O DATASET ===\")\n",
        "data = fetch_california_housing()\n",
        "X = data.data\n",
        "y = data.target\n",
        "\n",
        "print(f\"Formato dos dados: {X.shape}\")\n",
        "print(f\"Características: {data.feature_names}\")\n",
        "print(f\"Descrição: {data.DESCR[:200]}...\")\n",
        "\n",
        "# 2. Separar dados de treino e teste\n",
        "X_train, X_test, y_train, y_test = train_test_split(\n",
        "    X, y, test_size=0.2, random_state=42\n",
        ")\n",
        "\n",
        "print(f\"\\nDados de treino: {X_train.shape}\")\n",
        "print(f\"Dados de teste: {X_test.shape}\")"
      ],
      "metadata": {
        "colab": {
          "base_uri": "https://localhost:8080/"
        },
        "id": "HC2IJ-VCKDCm",
        "outputId": "5148e949-ae7f-437c-f7c6-36feb0b81252"
      },
      "execution_count": 22,
      "outputs": [
        {
          "output_type": "stream",
          "name": "stdout",
          "text": [
            "=== EXPLORANDO O DATASET ===\n",
            "Formato dos dados: (20640, 8)\n",
            "Características: ['MedInc', 'HouseAge', 'AveRooms', 'AveBedrms', 'Population', 'AveOccup', 'Latitude', 'Longitude']\n",
            "Descrição: .. _california_housing_dataset:\n",
            "\n",
            "California Housing dataset\n",
            "--------------------------\n",
            "\n",
            "**Data Set Characteristics:**\n",
            "\n",
            ":Number of Instances: 20640\n",
            "\n",
            ":Number of Attributes: 8 numeric, predictive attribu...\n",
            "\n",
            "Dados de treino: (16512, 8)\n",
            "Dados de teste: (4128, 8)\n"
          ]
        }
      ]
    },
    {
      "cell_type": "markdown",
      "source": [
        "##a) Crie e treine o modelo de regressão linear\n",
        "    Dica: Use LinearRegression() e o método .fit()"
      ],
      "metadata": {
        "id": "8bmuOZIDyBO4"
      }
    },
    {
      "cell_type": "code",
      "source": [
        "model_lr = LinearRegression()\n",
        "model_lr.fit(X_train, y_train)\n",
        "print(\"\\nModelo de Regressão Linear treinado com sucesso!\")"
      ],
      "metadata": {
        "colab": {
          "base_uri": "https://localhost:8080/"
        },
        "id": "Ejr-kdJiKtdu",
        "outputId": "38c5cbe5-5158-4ce1-88d8-692d50f795a2"
      },
      "execution_count": 23,
      "outputs": [
        {
          "output_type": "stream",
          "name": "stdout",
          "text": [
            "\n",
            "Modelo de Regressão Linear treinado com sucesso!\n"
          ]
        }
      ]
    },
    {
      "cell_type": "markdown",
      "source": [
        "##b)  Faça predições nos dados de teste\n",
        "    Dica: Use o método .predict()"
      ],
      "metadata": {
        "id": "VpVPYYveyKw6"
      }
    },
    {
      "cell_type": "code",
      "source": [
        "y_pred_lr = model_lr.predict(X_test)\n",
        "print(\"\\nPredições realizadas.\")\n",
        "print(\"Primeiras 5 previsões:\", y_pred_lr[:5])\n",
        "print(\"Primeiros 5 valores reais:\", y_test[:5])"
      ],
      "metadata": {
        "colab": {
          "base_uri": "https://localhost:8080/"
        },
        "id": "oSb8VCj_K0FB",
        "outputId": "c22044d3-f492-47b2-9e4e-0ff04367c71c"
      },
      "execution_count": 40,
      "outputs": [
        {
          "output_type": "stream",
          "name": "stdout",
          "text": [
            "\n",
            "Predições realizadas.\n"
          ]
        }
      ]
    },
    {
      "cell_type": "markdown",
      "source": [
        "##c) Calcule métricas de avaliação, incluindo MAE (Erro Médio Absoluto) e R² (coeficiente de determinação)"
      ],
      "metadata": {
        "id": "YEX8BgwxyQf4"
      }
    },
    {
      "cell_type": "code",
      "source": [
        "mae_lr = mean_absolute_error(y_test, y_pred_lr)\n",
        "r2_lr = r2_score(y_test, y_pred_lr)\n",
        "\n",
        "print(f\"\\n--- Métricas de Avaliação da Regressão Linear ---\")\n",
        "print(f\"MAE (Erro Médio Absoluto): {mae_lr:.4f}\")\n",
        "print(f\"R² (Coeficiente de Determinação): {r2_lr:.4f}\")"
      ],
      "metadata": {
        "colab": {
          "base_uri": "https://localhost:8080/"
        },
        "id": "xM09RPsxK4yD",
        "outputId": "e01a84cf-1fe2-42ad-ebff-95cd500fbba5"
      },
      "execution_count": 25,
      "outputs": [
        {
          "output_type": "stream",
          "name": "stdout",
          "text": [
            "\n",
            "--- Métricas de Avaliação da Regressão Linear ---\n",
            "MAE (Erro Médio Absoluto): 0.5332\n",
            "R² (Coeficiente de Determinação): 0.5758\n"
          ]
        }
      ]
    },
    {
      "cell_type": "markdown",
      "source": [
        "##d) Crie um gráfico de dispersão (valores reais vs preditos). Configure título, labels dos eixos e adicione uma linha diagonal perfeita"
      ],
      "metadata": {
        "id": "JFABYjZfyfEL"
      }
    },
    {
      "cell_type": "code",
      "source": [
        "plt.figure(figsize=(10, 6))\n",
        "plt.scatter(y_test, y_pred_lr, alpha=0.6)\n",
        "plt.plot([y_test.min(), y_test.max()], [y_test.min(), y_test.max()], 'r--', lw=2, label='Predição Perfeita')\n",
        "plt.title('Valores Reais vs. Valores Preditos (Regressão Linear)')\n",
        "plt.xlabel('Valor Mediano Real das Casas')\n",
        "plt.ylabel('Valor Mediano Predito das Casas')\n",
        "plt.grid(True)\n",
        "plt.legend()\n",
        "plt.show()"
      ],
      "metadata": {
        "colab": {
          "base_uri": "https://localhost:8080/",
          "height": 564
        },
        "id": "Kl8r5rmDK8dE",
        "outputId": "d4d2f840-9f5d-4286-83e1-cdca6e2e8b92"
      },
      "execution_count": 26,
      "outputs": [
        {
          "output_type": "display_data",
          "data": {
            "text/plain": [
              "<Figure size 1000x600 with 1 Axes>"
            ],
            "image/png": "[encoded data removed]"
          },
          "metadata": {}
        }
      ]
    },
    {
      "cell_type": "markdown",
      "source": [
        "##e) Baseado nos resultados obtidos (MAE e R²), você diria que este modelo é bom para prever preços de casas? Justifique sua resposta explicando o que cada métrica significa nesse contexto."
      ],
      "metadata": {
        "id": "wATeP_G7yngT"
      }
    },
    {
      "cell_type": "markdown",
      "source": [
        "MAE (Erro Médio Absoluto): O Erro Médio Absoluto (MAE) de 0.5309 indica que, em média, as previsões do modelo desviam-se de 0.5309 unidades dos valores reais. No contexto de preços de casas na Califórnia, onde a variável alvo está em centenas de milhares de dólares, isso representa um erro médio de aproximadamente US$ 53.090.\n",
        "\n",
        "R² (Coeficiente de Determinação): O Coeficiente de Determinação (R²) de 0.7734 demonstra que 77.34% da variância nos preços das casas é explicada pelo modelo. Um valor próximo a 1 indica que o modelo captura uma grande proporção da variabilidade dos dados.\n",
        "\n",
        "Conclusão: O modelo é razoável/bom. O MAE fornece a magnitude do erro em termos monetários (US$ 53.090 de erro médio), enquanto o R² indica que mais de três quartos da variação dos preços é explicada pelo modelo. Ou seja, depende da tolerância a erros exigida e da complexidade da variação dos preços no mercado imobiliário."
      ],
      "metadata": {
        "id": "FxdOhTN1VA6k"
      }
    },
    {
      "cell_type": "markdown",
      "source": [
        "# Questão 3: Perceptron\n",
        "\n",
        "O Perceptron é o modelo mais simples de rede neural artificial, utilizado para classificação linear de dados. Ele ajusta seus pesos a partir de exemplos rotulados, aprendendo a separar duas classes com uma linha (ou hiperplano).\n",
        "\n",
        "O código abaixo foi feito para que você possa acompanhar o desenvolvimento de uma camada de perceptrons. Complete-o de acordo com o que os comentários pedem."
      ],
      "metadata": {
        "id": "tRO5Q7htyyqw"
      }
    },
    {
      "cell_type": "markdown",
      "source": [
        "##Instalando as Dependências"
      ],
      "metadata": {
        "id": "sZ7E0wFd0wN2"
      }
    },
    {
      "cell_type": "code",
      "source": [
        "!pip install torch scikit-learn"
      ],
      "metadata": {
        "colab": {
          "base_uri": "https://localhost:8080/"
        },
        "id": "ferPywDmNlVt",
        "outputId": "cb3f4ad6-54db-40d9-878a-4bf8ccd51a0b"
      },
      "execution_count": 27,
      "outputs": [
        {
          "output_type": "stream",
          "name": "stdout",
          "text": [
            "Requirement already satisfied: torch in /usr/local/lib/python3.11/dist-packages (2.6.0+cu124)\n",
            "Requirement already satisfied: scikit-learn in /usr/local/lib/python3.11/dist-packages (1.6.1)\n",
            "Requirement already satisfied: filelock in /usr/local/lib/python3.11/dist-packages (from torch) (3.18.0)\n",
            "Requirement already satisfied: typing-extensions>=4.10.0 in /usr/local/lib/python3.11/dist-packages (from torch) (4.14.0)\n",
            "Requirement already satisfied: networkx in /usr/local/lib/python3.11/dist-packages (from torch) (3.5)\n",
            "Requirement already satisfied: jinja2 in /usr/local/lib/python3.11/dist-packages (from torch) (3.1.6)\n",
            "Requirement already satisfied: fsspec in /usr/local/lib/python3.11/dist-packages (from torch) (2025.3.2)\n",
            "Collecting nvidia-cuda-nvrtc-cu12==12.4.127 (from torch)\n",
            "  Downloading nvidia_cuda_nvrtc_cu12-12.4.127-py3-none-manylinux2014_x86_64.whl.metadata (1.5 kB)\n",
            "Collecting nvidia-cuda-runtime-cu12==12.4.127 (from torch)\n",
            "  Downloading nvidia_cuda_runtime_cu12-12.4.127-py3-none-manylinux2014_x86_64.whl.metadata (1.5 kB)\n",
            "Collecting nvidia-cuda-cupti-cu12==12.4.127 (from torch)\n",
            "  Downloading nvidia_cuda_cupti_cu12-12.4.127-py3-none-manylinux2014_x86_64.whl.metadata (1.6 kB)\n",
            "Collecting nvidia-cudnn-cu12==9.1.0.70 (from torch)\n",
            "  Downloading nvidia_cudnn_cu12-9.1.0.70-py3-none-manylinux2014_x86_64.whl.metadata (1.6 kB)\n",
            "Collecting nvidia-cublas-cu12==12.4.5.8 (from torch)\n",
            "  Downloading nvidia_cublas_cu12-12.4.5.8-py3-none-manylinux2014_x86_64.whl.metadata (1.5 kB)\n",
            "Collecting nvidia-cufft-cu12==11.2.1.3 (from torch)\n",
            "  Downloading nvidia_cufft_cu12-11.2.1.3-py3-none-manylinux2014_x86_64.whl.metadata (1.5 kB)\n",
            "Collecting nvidia-curand-cu12==10.3.5.147 (from torch)\n",
            "  Downloading nvidia_curand_cu12-10.3.5.147-py3-none-manylinux2014_x86_64.whl.metadata (1.5 kB)\n",
            "Collecting nvidia-cusolver-cu12==11.6.1.9 (from torch)\n",
            "  Downloading nvidia_cusolver_cu12-11.6.1.9-py3-none-manylinux2014_x86_64.whl.metadata (1.6 kB)\n",
            "Collecting nvidia-cusparse-cu12==12.3.1.170 (from torch)\n",
            "  Downloading nvidia_cusparse_cu12-12.3.1.170-py3-none-manylinux2014_x86_64.whl.metadata (1.6 kB)\n",
            "Requirement already satisfied: nvidia-cusparselt-cu12==0.6.2 in /usr/local/lib/python3.11/dist-packages (from torch) (0.6.2)\n",
            "Requirement already satisfied: nvidia-nccl-cu12==2.21.5 in /usr/local/lib/python3.11/dist-packages (from torch) (2.21.5)\n",
            "Requirement already satisfied: nvidia-nvtx-cu12==12.4.127 in /usr/local/lib/python3.11/dist-packages (from torch) (12.4.127)\n",
            "Collecting nvidia-nvjitlink-cu12==12.4.127 (from torch)\n",
            "  Downloading nvidia_nvjitlink_cu12-12.4.127-py3-none-manylinux2014_x86_64.whl.metadata (1.5 kB)\n",
            "Requirement already satisfied: triton==3.2.0 in /usr/local/lib/python3.11/dist-packages (from torch) (3.2.0)\n",
            "Requirement already satisfied: sympy==1.13.1 in /usr/local/lib/python3.11/dist-packages (from torch) (1.13.1)\n",
            "Requirement already satisfied: mpmath<1.4,>=1.1.0 in /usr/local/lib/python3.11/dist-packages (from sympy==1.13.1->torch) (1.3.0)\n",
            "Requirement already satisfied: numpy>=1.19.5 in /usr/local/lib/python3.11/dist-packages (from scikit-learn) (2.0.2)\n",
            "Requirement already satisfied: scipy>=1.6.0 in /usr/local/lib/python3.11/dist-packages (from scikit-learn) (1.15.3)\n",
            "Requirement already satisfied: joblib>=1.2.0 in /usr/local/lib/python3.11/dist-packages (from scikit-learn) (1.5.1)\n",
            "Requirement already satisfied: threadpoolctl>=3.1.0 in /usr/local/lib/python3.11/dist-packages (from scikit-learn) (3.6.0)\n",
            "Requirement already satisfied: MarkupSafe>=2.0 in /usr/local/lib/python3.11/dist-packages (from jinja2->torch) (3.0.2)\n",
            "Downloading nvidia_cublas_cu12-12.4.5.8-py3-none-manylinux2014_x86_64.whl (363.4 MB)\n",
            "\u001b[2K   \u001b[90m━━━━━━━━━━━━━━━━━━━━━━━━━━━━━━━━━━━━━━━━\u001b[0m \u001b[32m363.4/363.4 MB\u001b[0m \u001b[31m4.5 MB/s\u001b[0m eta \u001b[36m0:00:00\u001b[0m\n",
            "\u001b[?25hDownloading nvidia_cuda_cupti_cu12-12.4.127-py3-none-manylinux2014_x86_64.whl (13.8 MB)\n",
            "\u001b[2K   \u001b[90m━━━━━━━━━━━━━━━━━━━━━━━━━━━━━━━━━━━━━━━━\u001b[0m \u001b[32m13.8/13.8 MB\u001b[0m \u001b[31m86.0 MB/s\u001b[0m eta \u001b[36m0:00:00\u001b[0m\n",
            "\u001b[?25hDownloading nvidia_cuda_nvrtc_cu12-12.4.127-py3-none-manylinux2014_x86_64.whl (24.6 MB)\n",
            "\u001b[2K   \u001b[90m━━━━━━━━━━━━━━━━━━━━━━━━━━━━━━━━━━━━━━━━\u001b[0m \u001b[32m24.6/24.6 MB\u001b[0m \u001b[31m70.4 MB/s\u001b[0m eta \u001b[36m0:00:00\u001b[0m\n",
            "\u001b[?25hDownloading nvidia_cuda_runtime_cu12-12.4.127-py3-none-manylinux2014_x86_64.whl (883 kB)\n",
            "\u001b[2K   \u001b[90m━━━━━━━━━━━━━━━━━━━━━━━━━━━━━━━━━━━━━━━━\u001b[0m \u001b[32m883.7/883.7 kB\u001b[0m \u001b[31m44.2 MB/s\u001b[0m eta \u001b[36m0:00:00\u001b[0m\n",
            "\u001b[?25hDownloading nvidia_cudnn_cu12-9.1.0.70-py3-none-manylinux2014_x86_64.whl (664.8 MB)\n",
            "\u001b[2K   \u001b[90m━━━━━━━━━━━━━━━━━━━━━━━━━━━━━━━━━━━━━━━━\u001b[0m \u001b[32m664.8/664.8 MB\u001b[0m \u001b[31m1.0 MB/s\u001b[0m eta \u001b[36m0:00:00\u001b[0m\n",
            "\u001b[?25hDownloading nvidia_cufft_cu12-11.2.1.3-py3-none-manylinux2014_x86_64.whl (211.5 MB)\n",
            "\u001b[2K   \u001b[90m━━━━━━━━━━━━━━━━━━━━━━━━━━━━━━━━━━━━━━━━\u001b[0m \u001b[32m211.5/211.5 MB\u001b[0m \u001b[31m3.7 MB/s\u001b[0m eta \u001b[36m0:00:00\u001b[0m\n",
            "\u001b[?25hDownloading nvidia_curand_cu12-10.3.5.147-py3-none-manylinux2014_x86_64.whl (56.3 MB)\n",
            "\u001b[2K   \u001b[90m━━━━━━━━━━━━━━━━━━━━━━━━━━━━━━━━━━━━━━━━\u001b[0m \u001b[32m56.3/56.3 MB\u001b[0m \u001b[31m9.6 MB/s\u001b[0m eta \u001b[36m0:00:00\u001b[0m\n",
            "\u001b[?25hDownloading nvidia_cusolver_cu12-11.6.1.9-py3-none-manylinux2014_x86_64.whl (127.9 MB)\n",
            "\u001b[2K   \u001b[90m━━━━━━━━━━━━━━━━━━━━━━━━━━━━━━━━━━━━━━━━\u001b[0m \u001b[32m127.9/127.9 MB\u001b[0m \u001b[31m6.6 MB/s\u001b[0m eta \u001b[36m0:00:00\u001b[0m\n",
            "\u001b[?25hDownloading nvidia_cusparse_cu12-12.3.1.170-py3-none-manylinux2014_x86_64.whl (207.5 MB)\n",
            "\u001b[2K   \u001b[90m━━━━━━━━━━━━━━━━━━━━━━━━━━━━━━━━━━━━━━━━\u001b[0m \u001b[32m207.5/207.5 MB\u001b[0m \u001b[31m2.4 MB/s\u001b[0m eta \u001b[36m0:00:00\u001b[0m\n",
            "\u001b[?25hDownloading nvidia_nvjitlink_cu12-12.4.127-py3-none-manylinux2014_x86_64.whl (21.1 MB)\n",
            "\u001b[2K   \u001b[90m━━━━━━━━━━━━━━━━━━━━━━━━━━━━━━━━━━━━━━━━\u001b[0m \u001b[32m21.1/21.1 MB\u001b[0m \u001b[31m85.6 MB/s\u001b[0m eta \u001b[36m0:00:00\u001b[0m\n",
            "\u001b[?25hInstalling collected packages: nvidia-nvjitlink-cu12, nvidia-curand-cu12, nvidia-cufft-cu12, nvidia-cuda-runtime-cu12, nvidia-cuda-nvrtc-cu12, nvidia-cuda-cupti-cu12, nvidia-cublas-cu12, nvidia-cusparse-cu12, nvidia-cudnn-cu12, nvidia-cusolver-cu12\n",
            "  Attempting uninstall: nvidia-nvjitlink-cu12\n",
            "    Found existing installation: nvidia-nvjitlink-cu12 12.5.82\n",
            "    Uninstalling nvidia-nvjitlink-cu12-12.5.82:\n",
            "      Successfully uninstalled nvidia-nvjitlink-cu12-12.5.82\n",
            "  Attempting uninstall: nvidia-curand-cu12\n",
            "    Found existing installation: nvidia-curand-cu12 10.3.6.82\n",
            "    Uninstalling nvidia-curand-cu12-10.3.6.82:\n",
            "      Successfully uninstalled nvidia-curand-cu12-10.3.6.82\n",
            "  Attempting uninstall: nvidia-cufft-cu12\n",
            "    Found existing installation: nvidia-cufft-cu12 11.2.3.61\n",
            "    Uninstalling nvidia-cufft-cu12-11.2.3.61:\n",
            "      Successfully uninstalled nvidia-cufft-cu12-11.2.3.61\n",
            "  Attempting uninstall: nvidia-cuda-runtime-cu12\n",
            "    Found existing installation: nvidia-cuda-runtime-cu12 12.5.82\n",
            "    Uninstalling nvidia-cuda-runtime-cu12-12.5.82:\n",
            "      Successfully uninstalled nvidia-cuda-runtime-cu12-12.5.82\n",
            "  Attempting uninstall: nvidia-cuda-nvrtc-cu12\n",
            "    Found existing installation: nvidia-cuda-nvrtc-cu12 12.5.82\n",
            "    Uninstalling nvidia-cuda-nvrtc-cu12-12.5.82:\n",
            "      Successfully uninstalled nvidia-cuda-nvrtc-cu12-12.5.82\n",
            "  Attempting uninstall: nvidia-cuda-cupti-cu12\n",
            "    Found existing installation: nvidia-cuda-cupti-cu12 12.5.82\n",
            "    Uninstalling nvidia-cuda-cupti-cu12-12.5.82:\n",
            "      Successfully uninstalled nvidia-cuda-cupti-cu12-12.5.82\n",
            "  Attempting uninstall: nvidia-cublas-cu12\n",
            "    Found existing installation: nvidia-cublas-cu12 12.5.3.2\n",
            "    Uninstalling nvidia-cublas-cu12-12.5.3.2:\n",
            "      Successfully uninstalled nvidia-cublas-cu12-12.5.3.2\n",
            "  Attempting uninstall: nvidia-cusparse-cu12\n",
            "    Found existing installation: nvidia-cusparse-cu12 12.5.1.3\n",
            "    Uninstalling nvidia-cusparse-cu12-12.5.1.3:\n",
            "      Successfully uninstalled nvidia-cusparse-cu12-12.5.1.3\n",
            "  Attempting uninstall: nvidia-cudnn-cu12\n",
            "    Found existing installation: nvidia-cudnn-cu12 9.3.0.75\n",
            "    Uninstalling nvidia-cudnn-cu12-9.3.0.75:\n",
            "      Successfully uninstalled nvidia-cudnn-cu12-9.3.0.75\n",
            "  Attempting uninstall: nvidia-cusolver-cu12\n",
            "    Found existing installation: nvidia-cusolver-cu12 11.6.3.83\n",
            "    Uninstalling nvidia-cusolver-cu12-11.6.3.83:\n",
            "      Successfully uninstalled nvidia-cusolver-cu12-11.6.3.83\n",
            "Successfully installed nvidia-cublas-cu12-12.4.5.8 nvidia-cuda-cupti-cu12-12.4.127 nvidia-cuda-nvrtc-cu12-12.4.127 nvidia-cuda-runtime-cu12-12.4.127 nvidia-cudnn-cu12-9.1.0.70 nvidia-cufft-cu12-11.2.1.3 nvidia-curand-cu12-10.3.5.147 nvidia-cusolver-cu12-11.6.1.9 nvidia-cusparse-cu12-12.3.1.170 nvidia-nvjitlink-cu12-12.4.127\n"
          ]
        }
      ]
    },
    {
      "cell_type": "markdown",
      "source": [
        "##Importando as Bibliotecas"
      ],
      "metadata": {
        "id": "bdH1r3x0zjph"
      }
    },
    {
      "cell_type": "code",
      "source": [
        "from torchvision import datasets, transforms\n",
        "from torch.utils.data import DataLoader, random_split\n",
        "import matplotlib.pyplot as plt\n",
        "import torch\n",
        "import torch.nn as nn\n",
        "import torch.optim as optim"
      ],
      "metadata": {
        "id": "KaBZGMwdNqhv"
      },
      "execution_count": 28,
      "outputs": []
    },
    {
      "cell_type": "markdown",
      "source": [
        "##Digits"
      ],
      "metadata": {
        "id": "Y3EUcqDezp-2"
      }
    },
    {
      "cell_type": "code",
      "source": [
        "# Transformação para converter imagens em tensores e normalizar\n",
        "transform = transforms.Compose([\n",
        "    transforms.ToTensor(),  # converte para tensor\n",
        "    transforms.Normalize((0.1307,), (0.3081,))  # normalização dos dados\n",
        "])\n",
        "\n",
        "# Baixando o dataset MNIST-treino\n",
        "full_train_dataset = datasets.MNIST(root='./data', train=True, download=True, transform=transform)\n",
        "\n",
        "# Baixando o dataset MNIST-teste\n",
        "test_dataset = datasets.MNIST(root='./data', train=False, download=True, transform=transform)\n",
        "\n",
        "# Definindo proporção de treino/validação (ex: 90% treino, 10% validação)\n",
        "train_size = int(0.9 * len(full_train_dataset))\n",
        "val_size = len(full_train_dataset) - train_size\n",
        "\n",
        "# Dividindo os dados\n",
        "train_dataset, val_dataset = random_split(full_train_dataset, [train_size, val_size])\n",
        "\n",
        "# Loaders para treino, validação e teste\n",
        "train_loader = DataLoader(train_dataset, batch_size=64, shuffle=True)\n",
        "val_loader   = DataLoader(val_dataset, batch_size=64, shuffle=False)\n",
        "test_loader  = DataLoader(test_dataset, batch_size=64, shuffle=False)"
      ],
      "metadata": {
        "colab": {
          "base_uri": "https://localhost:8080/"
        },
        "id": "4jd3HBYzNvRh",
        "outputId": "a2e9a9a2-ef89-4db4-da7d-6d8835e565b0"
      },
      "execution_count": 29,
      "outputs": [
        {
          "output_type": "stream",
          "name": "stderr",
          "text": [
            "100%|██████████| 9.91M/9.91M [00:00<00:00, 16.2MB/s]\n",
            "100%|██████████| 28.9k/28.9k [00:00<00:00, 595kB/s]\n",
            "100%|██████████| 1.65M/1.65M [00:00<00:00, 4.37MB/s]\n",
            "100%|██████████| 4.54k/4.54k [00:00<00:00, 6.02MB/s]\n"
          ]
        }
      ]
    },
    {
      "cell_type": "code",
      "source": [
        "# Exibindo algumas imagens do dataset de treino\n",
        "examples = enumerate(train_loader)\n",
        "batch_idx, (example_data, example_targets) = next(examples)\n",
        "\n",
        "fig, axes = plt.subplots(1, 10, figsize=(15, 4))\n",
        "for i in range(10):\n",
        "    axes[i].imshow(example_data[i][0], cmap='gray')\n",
        "    axes[i].set_title(f\"Rótulo: {example_targets[i].item()}\")\n",
        "    axes[i].axis('off')\n",
        "plt.show()"
      ],
      "metadata": {
        "colab": {
          "base_uri": "https://localhost:8080/",
          "height": 157
        },
        "id": "1x8U8BmfNzWb",
        "outputId": "531a239f-88b8-4edc-c482-fd44bbe45fad"
      },
      "execution_count": 30,
      "outputs": [
        {
          "output_type": "display_data",
          "data": {
            "text/plain": [
              "<Figure size 1500x400 with 10 Axes>"
            ],
            "image/png": "[encoded data removed]"
          },
          "metadata": {}
        }
      ]
    },
    {
      "cell_type": "code",
      "source": [
        "# Definindo a estrutura do modelo que vamos utilizar\n",
        "class Model(nn.Module):\n",
        "    def __init__(self):\n",
        "        super(Model, self).__init__()\n",
        "        self.flatten = nn.Flatten()  #acha a imagem 28x28 em um vetor de 784 pixels\n",
        "        self.fc1 = nn.Linear(28 * 28, 10)#mapeia 784 entradas para 10 saidas\n",
        "\n",
        "    def forward(self, x):\n",
        "        x = self.flatten(x)#fluxo de dados achata a imagem\n",
        "        return self.fc1(x)#passa a entrada achatada pela camada linear"
      ],
      "metadata": {
        "id": "ODt38m_ZN2Dj"
      },
      "execution_count": 31,
      "outputs": []
    },
    {
      "cell_type": "code",
      "source": [
        "model = Model()\n",
        "device = torch.device(\"cuda\" if torch.cuda.is_available() else \"cpu\")\n",
        "model.to(device)\n",
        "print(\"\\nModelo Perceptron inicializado e movido para o dispositivo:\", device)"
      ],
      "metadata": {
        "colab": {
          "base_uri": "https://localhost:8080/"
        },
        "id": "821sWS5qRX3D",
        "outputId": "c9cdc416-e371-427d-ae3e-74405c274fce"
      },
      "execution_count": 32,
      "outputs": [
        {
          "output_type": "stream",
          "name": "stdout",
          "text": [
            "\n",
            "Modelo Perceptron inicializado e movido para o dispositivo: cpu\n"
          ]
        }
      ]
    },
    {
      "cell_type": "code",
      "source": [
        "# Definindo a nossa função de perda e o otimizador\n",
        "\n",
        "# Defina uma função de perda apropriada para o problema de classificação proposto\n",
        "# CrossEntropyLoss é ideal para classificação multiclasse e combina Softmax + NLLLoss\n",
        "criterion = nn.CrossEntropyLoss()\n",
        "\n",
        "# Defina a função de otimização, utilizando os parâmetros do modelo e uma taxa de aprendizado\n",
        "optimizer = optim.SGD(model.parameters(), lr=0.01)\n",
        "\n",
        "# Defina o numero de épocas de treinamento do modelo\n",
        "epochs = 10   #pode ser ajustado\n",
        "\n",
        "print(\"\\n--- Função de Perda, Otimizador e Número de Épocas Definidos ---\")\n",
        "print(f\"Função de Perda: {criterion}\")\n",
        "print(f\"Otimizador: {optimizer}\")\n",
        "print(f\"Número de Épocas de Treinamento: {epochs}\")"
      ],
      "metadata": {
        "colab": {
          "base_uri": "https://localhost:8080/"
        },
        "id": "NNAxR0RCPKh0",
        "outputId": "3f8ea656-738c-4d15-8a62-4df3061412a5"
      },
      "execution_count": 33,
      "outputs": [
        {
          "output_type": "stream",
          "name": "stdout",
          "text": [
            "\n",
            "--- Função de Perda, Otimizador e Número de Épocas Definidos ---\n",
            "Função de Perda: CrossEntropyLoss()\n",
            "Otimizador: SGD (\n",
            "Parameter Group 0\n",
            "    dampening: 0\n",
            "    differentiable: False\n",
            "    foreach: None\n",
            "    fused: None\n",
            "    lr: 0.01\n",
            "    maximize: False\n",
            "    momentum: 0\n",
            "    nesterov: False\n",
            "    weight_decay: 0\n",
            ")\n",
            "Número de Épocas de Treinamento: 10\n"
          ]
        }
      ]
    },
    {
      "cell_type": "code",
      "source": [
        "def train_model(model, train_loader, val_loader, optimizer, criterion, device, epochs):\n",
        "    model.to(device) # Garante que o modelo está no dispositivo correto (CPU/GPU)\n",
        "\n",
        "    print(\"\\n--- Iniciando o Treinamento do Modelo ---\")\n",
        "    for epoch in range(epochs):\n",
        "        # --- Treinamento ---\n",
        "        model.train() # Coloca o modelo em modo de treinamento (habilita dropout/batchnorm, se houver)\n",
        "        train_loss = 0\n",
        "        train_correct = 0\n",
        "        train_total = 0\n",
        "\n",
        "        for batch_idx, (data, targets) in enumerate(train_loader):\n",
        "            data, targets = data.to(device), targets.to(device)\n",
        "\n",
        "            # Zere os gradientes acumulados antes de cada backward pass\n",
        "            optimizer.zero_grad()\n",
        "\n",
        "            # Forward pass: gere as previsões\n",
        "            outputs = model(data)\n",
        "\n",
        "            # Calcule a perda entre previsão e rótulo\n",
        "            loss = criterion(outputs, targets)\n",
        "\n",
        "            # Backward pass: calcule os gradientes da perda em relação aos parâmetros do modelo\n",
        "            loss.backward()\n",
        "\n",
        "            # Atualize os pesos do modelo com os gradientes calculados\n",
        "            optimizer.step()\n",
        "\n",
        "            train_loss += loss.item() * data.size(0)\n",
        "            _, predicted = outputs.max(1)\n",
        "            train_total += targets.size(0)\n",
        "            train_correct += predicted.eq(targets).sum().item()\n",
        "\n",
        "        avg_train_loss = train_loss / train_total\n",
        "        train_acc = train_correct / train_total * 100\n",
        "\n",
        "        # --- Validação ---\n",
        "        model.eval()\n",
        "        val_loss = 0\n",
        "        val_correct = 0\n",
        "        val_total = 0\n",
        "\n",
        "        # Desativando o cálculo de gradientes\n",
        "        with torch.no_grad():\n",
        "            for data, targets in val_loader:\n",
        "                data, targets = data.to(device), targets.to(device)\n",
        "\n",
        "                outputs = model(data)\n",
        "                loss = criterion(outputs, targets)\n",
        "\n",
        "                val_loss += loss.item() * data.size(0)\n",
        "                _, predicted = outputs.max(1)\n",
        "                val_total += targets.size(0)\n",
        "                val_correct += predicted.eq(targets).sum().item()\n",
        "\n",
        "        avg_val_loss = val_loss / val_total\n",
        "        val_acc = val_correct / val_total * 100\n",
        "\n",
        "        # --- Resultados ---\n",
        "        print(f\"Epoch {epoch+1}/{epochs}\")\n",
        "        print(f\"  Treino     - Loss: {avg_train_loss:.4f} | Acurácia: {train_acc:.2f}%\")\n",
        "        print(f\"  Validação  - Loss: {avg_val_loss:.4f} | Acurácia: {val_acc:.2f}%\\n\")\n",
        "\n",
        "train_model(model, train_loader, val_loader, optimizer, criterion, device, epochs)#chama função de treinamento após sua definição"
      ],
      "metadata": {
        "colab": {
          "base_uri": "https://localhost:8080/"
        },
        "id": "uLozgjSjPi0-",
        "outputId": "a225e352-e275-466b-c1e9-97e8c01ad3f6"
      },
      "execution_count": 34,
      "outputs": [
        {
          "output_type": "stream",
          "name": "stdout",
          "text": [
            "\n",
            "--- Iniciando o Treinamento do Modelo ---\n",
            "Epoch 1/10\n",
            "  Treino     - Loss: 0.4824 | Acurácia: 86.92%\n",
            "  Validação  - Loss: 0.3574 | Acurácia: 90.42%\n",
            "\n",
            "Epoch 2/10\n",
            "  Treino     - Loss: 0.3390 | Acurácia: 90.36%\n",
            "  Validação  - Loss: 0.3287 | Acurácia: 91.08%\n",
            "\n",
            "Epoch 3/10\n",
            "  Treino     - Loss: 0.3155 | Acurácia: 90.98%\n",
            "  Validação  - Loss: 0.3157 | Acurácia: 91.42%\n",
            "\n",
            "Epoch 4/10\n",
            "  Treino     - Loss: 0.3038 | Acurácia: 91.37%\n",
            "  Validação  - Loss: 0.3107 | Acurácia: 91.55%\n",
            "\n",
            "Epoch 5/10\n",
            "  Treino     - Loss: 0.2957 | Acurácia: 91.62%\n",
            "  Validação  - Loss: 0.3037 | Acurácia: 91.83%\n",
            "\n",
            "Epoch 6/10\n",
            "  Treino     - Loss: 0.2902 | Acurácia: 91.74%\n",
            "  Validação  - Loss: 0.3034 | Acurácia: 91.70%\n",
            "\n",
            "Epoch 7/10\n",
            "  Treino     - Loss: 0.2858 | Acurácia: 91.89%\n",
            "  Validação  - Loss: 0.2978 | Acurácia: 92.00%\n",
            "\n",
            "Epoch 8/10\n",
            "  Treino     - Loss: 0.2822 | Acurácia: 92.09%\n",
            "  Validação  - Loss: 0.2961 | Acurácia: 91.88%\n",
            "\n",
            "Epoch 9/10\n",
            "  Treino     - Loss: 0.2792 | Acurácia: 92.11%\n",
            "  Validação  - Loss: 0.2972 | Acurácia: 92.12%\n",
            "\n",
            "Epoch 10/10\n",
            "  Treino     - Loss: 0.2766 | Acurácia: 92.24%\n",
            "  Validação  - Loss: 0.2947 | Acurácia: 92.12%\n",
            "\n"
          ]
        }
      ]
    },
    {
      "cell_type": "code",
      "source": [
        "train_model(model, train_loader, val_loader, optimizer, criterion, device, epochs)"
      ],
      "metadata": {
        "colab": {
          "base_uri": "https://localhost:8080/"
        },
        "id": "OJ_Gz-pTSASS",
        "outputId": "fbcd9ac9-8d52-4c5d-84ee-cc26f1590be2"
      },
      "execution_count": 35,
      "outputs": [
        {
          "output_type": "stream",
          "name": "stdout",
          "text": [
            "\n",
            "--- Iniciando o Treinamento do Modelo ---\n",
            "Epoch 1/10\n",
            "  Treino     - Loss: 0.2743 | Acurácia: 92.26%\n",
            "  Validação  - Loss: 0.2939 | Acurácia: 92.17%\n",
            "\n",
            "Epoch 2/10\n",
            "  Treino     - Loss: 0.2724 | Acurácia: 92.34%\n",
            "  Validação  - Loss: 0.2893 | Acurácia: 92.07%\n",
            "\n",
            "Epoch 3/10\n",
            "  Treino     - Loss: 0.2705 | Acurácia: 92.44%\n",
            "  Validação  - Loss: 0.2919 | Acurácia: 92.07%\n",
            "\n",
            "Epoch 4/10\n",
            "  Treino     - Loss: 0.2693 | Acurácia: 92.44%\n",
            "  Validação  - Loss: 0.2898 | Acurácia: 92.37%\n",
            "\n",
            "Epoch 5/10\n",
            "  Treino     - Loss: 0.2677 | Acurácia: 92.48%\n",
            "  Validação  - Loss: 0.2895 | Acurácia: 92.40%\n",
            "\n",
            "Epoch 6/10\n",
            "  Treino     - Loss: 0.2662 | Acurácia: 92.55%\n",
            "  Validação  - Loss: 0.2901 | Acurácia: 92.32%\n",
            "\n",
            "Epoch 7/10\n",
            "  Treino     - Loss: 0.2653 | Acurácia: 92.59%\n",
            "  Validação  - Loss: 0.2880 | Acurácia: 92.42%\n",
            "\n",
            "Epoch 8/10\n",
            "  Treino     - Loss: 0.2640 | Acurácia: 92.61%\n",
            "  Validação  - Loss: 0.2898 | Acurácia: 92.30%\n",
            "\n",
            "Epoch 9/10\n",
            "  Treino     - Loss: 0.2629 | Acurácia: 92.66%\n",
            "  Validação  - Loss: 0.2887 | Acurácia: 92.35%\n",
            "\n",
            "Epoch 10/10\n",
            "  Treino     - Loss: 0.2619 | Acurácia: 92.71%\n",
            "  Validação  - Loss: 0.2868 | Acurácia: 92.37%\n",
            "\n"
          ]
        }
      ]
    },
    {
      "cell_type": "code",
      "source": [
        "def test_model(model, test_loader, criterion, device):\n",
        "    model.eval()\n",
        "    model.to(device)\n",
        "    test_loss = 0\n",
        "    correct = 0\n",
        "    total = 0\n",
        "\n",
        "    with torch.no_grad():\n",
        "        for data, targets in test_loader:\n",
        "            data, targets = data.to(device), targets.to(device)\n",
        "            outputs = model(data)\n",
        "            loss = criterion(outputs, targets)\n",
        "\n",
        "            test_loss += loss.item() * data.size(0)\n",
        "            _, predicted = outputs.max(1)\n",
        "            total += targets.size(0)\n",
        "            correct += predicted.eq(targets).sum().item()\n",
        "\n",
        "    avg_loss = test_loss / total\n",
        "    acc = correct / total * 100\n",
        "\n",
        "    print(f\"Teste Loss médio: {avg_loss:.4f} | Acurácia: {acc:.2f}%\")"
      ],
      "metadata": {
        "id": "n4TE-5KfSC3r"
      },
      "execution_count": 36,
      "outputs": []
    },
    {
      "cell_type": "code",
      "source": [
        "test_model(model, test_loader, criterion, device)"
      ],
      "metadata": {
        "colab": {
          "base_uri": "https://localhost:8080/"
        },
        "id": "x4yEn5NQSFuE",
        "outputId": "57d68f24-0034-4660-f02e-eb4738d4829e"
      },
      "execution_count": 37,
      "outputs": [
        {
          "output_type": "stream",
          "name": "stdout",
          "text": [
            "Teste Loss médio: 0.2706 | Acurácia: 92.36%\n"
          ]
        }
      ]
    },
    {
      "cell_type": "code",
      "source": [
        "def visualize_predictions(model, data_loader, device, num_images=10):\n",
        "    model.eval()\n",
        "    model.to(device)\n",
        "    images_shown = 0\n",
        "\n",
        "    with torch.no_grad():\n",
        "        for data, targets in data_loader:\n",
        "            data, targets = data.to(device), targets.to(device)\n",
        "            outputs = model(data)\n",
        "            _, predicted = outputs.max(1)\n",
        "\n",
        "            fig, axes = plt.subplots(1, num_images, figsize=(15, 4))\n",
        "            for i in range(num_images):\n",
        "                axes[i].imshow(data[i][0].cpu(), cmap='gray')\n",
        "                axes[i].set_title(f\"Predição: {predicted[i].item()}\\nRótulo: {targets[i].item()}\")\n",
        "                axes[i].axis('off')\n",
        "            plt.tight_layout()\n",
        "            plt.show()\n",
        "\n",
        "            images_shown += num_images\n",
        "            break"
      ],
      "metadata": {
        "id": "m6FcgmXjSJoO"
      },
      "execution_count": 38,
      "outputs": []
    },
    {
      "cell_type": "code",
      "source": [
        "visualize_predictions(model, test_loader, device)"
      ],
      "metadata": {
        "colab": {
          "base_uri": "https://localhost:8080/",
          "height": 213
        },
        "id": "P-3AI9iQT__b",
        "outputId": "e14a9345-f1de-4c36-e5e9-a448ad80b4fa"
      },
      "execution_count": 39,
      "outputs": [
        {
          "output_type": "display_data",
          "data": {
            "text/plain": [
              "<Figure size 1500x400 with 10 Axes>"
            ],
            "image/png": "[encoded data removed]"
          },
          "metadata": {}
        }
      ]
    }
  ]
}